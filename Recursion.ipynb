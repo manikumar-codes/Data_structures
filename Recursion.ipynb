{
 "cells": [
  {
   "cell_type": "markdown",
   "metadata": {},
   "source": [
    "# Recursion "
   ]
  },
  {
   "cell_type": "markdown",
   "metadata": {},
   "source": [
    "A way of solving a problem by having a function calling itself."
   ]
  },
  {
   "cell_type": "markdown",
   "metadata": {},
   "source": [
    "---->Performing the same operation multiple times with different inputs."
   ]
  },
  {
   "cell_type": "markdown",
   "metadata": {},
   "source": [
    "---> In every step we try smaller inputs to make the problem smaller."
   ]
  },
  {
   "cell_type": "markdown",
   "metadata": {},
   "source": [
    "--> Base Condition is needed to stop the recursion, otherwise infinite loop will occur."
   ]
  },
  {
   "cell_type": "markdown",
   "metadata": {},
   "source": [
    "# Eg"
   ]
  },
  {
   "cell_type": "code",
   "execution_count": 1,
   "metadata": {},
   "outputs": [],
   "source": [
    "def openRussianDoll(doll):\n",
    "    if doll == 1:\n",
    "        print(\"All Dolls are opened\")\n",
    "    else:\n",
    "        openRussianDoll(doll-1)"
   ]
  },
  {
   "cell_type": "markdown",
   "metadata": {},
   "source": [
    "1. Recursive thinking is really important in programming and it helps you break down big problems into smaller ones and easier to use."
   ]
  },
  {
   "cell_type": "markdown",
   "metadata": {},
   "source": [
    "# When to use recursion?"
   ]
  },
  {
   "cell_type": "markdown",
   "metadata": {},
   "source": [
    "* if you can divide the problem into similar sub problems.\n",
    "* Design an algorithm to compute nth.\n",
    "* Write code to list the n.\n",
    "* Implement a method to compute all."
   ]
  },
  {
   "cell_type": "markdown",
   "metadata": {},
   "source": [
    "2. The prominent usage of recursion in data structures like trees and graphs.\n",
    "3. Used in many algorithms such as divide and conquer,greedy and dynamic programming."
   ]
  },
  {
   "cell_type": "markdown",
   "metadata": {},
   "source": [
    "# How Recursion Works?"
   ]
  },
  {
   "cell_type": "markdown",
   "metadata": {},
   "source": [
    "1. A method calls itself."
   ]
  },
  {
   "cell_type": "markdown",
   "metadata": {},
   "source": [
    "2. Exit from the infinite loop."
   ]
  },
  {
   "cell_type": "raw",
   "metadata": {},
   "source": [
    "def recursiveMethod(parameters):\n",
    "    if exit from condition satisfied:\n",
    "        return some value\n",
    "    else:\n",
    "        recursiveMethod(modified parameters)"
   ]
  },
  {
   "cell_type": "markdown",
   "metadata": {},
   "source": [
    "# Example"
   ]
  },
  {
   "cell_type": "code",
   "execution_count": 3,
   "metadata": {},
   "outputs": [],
   "source": [
    "def firstMethod():\n",
    "    secondMethod()\n",
    "    print(\"Iam first\")\n",
    "def secondMethod():\n",
    "    thirdMethod()\n",
    "    print(\"Iam second\")\n",
    "def thirdMethod():\n",
    "    fourthMethod()\n",
    "    print(\"Iam third\")\n",
    "def fourthMethod():\n",
    "    print(\"Iam fourth\")\n",
    "    "
   ]
  },
  {
   "cell_type": "code",
   "execution_count": 7,
   "metadata": {},
   "outputs": [],
   "source": [
    "def recursiveMethod(n):\n",
    "    if n < 1:\n",
    "        print(\"n is less than 1\")\n",
    "    else:\n",
    "        recursiveMethod(n-1)\n",
    "        print(n)"
   ]
  },
  {
   "cell_type": "raw",
   "metadata": {},
   "source": [
    "In terms of space and time efficiency,iteration works better than recursion.\n",
    "Iteration and recursion usage depends on the situation.\n",
    "In trees and graphs,recursion is useful in making them efficient."
   ]
  },
  {
   "cell_type": "markdown",
   "metadata": {},
   "source": [
    "# When to use recursion?"
   ]
  },
  {
   "cell_type": "markdown",
   "metadata": {},
   "source": [
    "- When we can easily breakdown a problem into similar subproblems\n",
    "- When we are fine with extra overhead(Time and space) that comes with it.\n",
    "- When we need a quick working solution instead of efficient one.\n",
    "- When to traverse a tree\n",
    "- When we use memorization in recursion."
   ]
  },
  {
   "cell_type": "markdown",
   "metadata": {},
   "source": [
    "# When to avoid recursion?\n"
   ]
  },
  {
   "cell_type": "markdown",
   "metadata": {},
   "source": [
    "- If time and space complexity matters for us.\n",
    "- Recursion uses more memory.If we use embedded memory.For example,an application that takes more memory in the phone is not efficient.\n",
    "- Recursion can be slow."
   ]
  },
  {
   "cell_type": "code",
   "execution_count": 8,
   "metadata": {},
   "outputs": [
    {
     "name": "stdout",
     "output_type": "stream",
     "text": [
      "120\n"
     ]
    }
   ],
   "source": [
    "def factorial(n):\n",
    "    assert n >= 0 and int(n) == n,\"The number must be positive integer only\"\n",
    "    if n in [0,1]:\n",
    "        return 1\n",
    "    else:\n",
    "        return n * factorial(n-1)\n",
    "print(factorial(5))"
   ]
  },
  {
   "cell_type": "code",
   "execution_count": 9,
   "metadata": {},
   "outputs": [
    {
     "name": "stdout",
     "output_type": "stream",
     "text": [
      "8\n"
     ]
    }
   ],
   "source": [
    "def fibonacci(n):\n",
    "    assert n >= 0 and int(n) == n,\"The number must be positive integer only\"\n",
    "    if n in [0,1]:\n",
    "        return n\n",
    "    else:\n",
    "        return fibonacci(n-1) + fibonacci(n-2)\n",
    "print(fibonacci(5))"
   ]
  },
  {
   "cell_type": "markdown",
   "metadata": {},
   "source": [
    "# Some interview questions"
   ]
  },
  {
   "cell_type": "markdown",
   "metadata": {},
   "source": [
    "Sum of digits of  a positive integer number using recursion"
   ]
  },
  {
   "cell_type": "code",
   "execution_count": 10,
   "metadata": {},
   "outputs": [
    {
     "name": "stdout",
     "output_type": "stream",
     "text": [
      "15\n"
     ]
    }
   ],
   "source": [
    "def sumofDigits(n):\n",
    "    assert n >= 0 and int(n) == n,\"The number has to be positive integer only\"\n",
    "    if n == 0:\n",
    "        return 0\n",
    "    else:\n",
    "        return int(n%10) + sumofDigits(int(n//10))\n",
    "print(sumofDigits(78))"
   ]
  },
  {
   "cell_type": "markdown",
   "metadata": {},
   "source": [
    "Power of a number using recursion"
   ]
  },
  {
   "cell_type": "code",
   "execution_count": 11,
   "metadata": {},
   "outputs": [
    {
     "name": "stdout",
     "output_type": "stream",
     "text": [
      "4\n"
     ]
    }
   ],
   "source": [
    "def power(base,exp):\n",
    "    assert exp >= 0 and int(exp)==exp,\"Exponent must be positive and integer\"\n",
    "    if exp == 0:\n",
    "        return 1\n",
    "    if exp == 1:\n",
    "        return base\n",
    "    return base * pow(base,exp-1)\n",
    "print(power(2,2))"
   ]
  },
  {
   "cell_type": "markdown",
   "metadata": {},
   "source": [
    "GCD of two numbers using recursion"
   ]
  },
  {
   "cell_type": "raw",
   "metadata": {},
   "source": [
    "Euclidean algorithm\n",
    "------------------------------\n",
    "gcd(48,18)\n",
    "step 1 : 48/18 = 2 remainder 12\n",
    "step 2 : 18/12 = 1 remainder 6\n",
    "step 3 : 12/6 = 0 remainder 0\n",
    "\n",
    "gcd(a,0) = a\n",
    "gcd(a,b) = gcd(b,a mod b)"
   ]
  },
  {
   "cell_type": "code",
   "execution_count": 12,
   "metadata": {},
   "outputs": [
    {
     "name": "stdout",
     "output_type": "stream",
     "text": [
      "6\n"
     ]
    }
   ],
   "source": [
    "def gcd(a,b):\n",
    "    assert int(a) == a and int(b) == b,\"The numbers must be integers only\"\n",
    "    if a < 0:\n",
    "        a = -1 * a\n",
    "    if b < 0:\n",
    "        b = -1 * b\n",
    "    if b == 0:\n",
    "        return a\n",
    "    else:\n",
    "        return gcd(b,a%b)\n",
    "print(gcd(48,18))"
   ]
  },
  {
   "cell_type": "markdown",
   "metadata": {},
   "source": [
    "Convert a number from Decimal to Binary using recursion"
   ]
  },
  {
   "cell_type": "raw",
   "metadata": {},
   "source": [
    "step 1 : Divide the number by 2\n",
    "step 2 : Get the integer quotient for the next iteration.\n",
    "step 3 : Get the remainder of binary digit\n",
    "step 4 : Repeat the steps until the quotient is equal to 0"
   ]
  },
  {
   "cell_type": "markdown",
   "metadata": {},
   "source": [
    "f(n) = n mod 2 + 10 * f(n/2)"
   ]
  },
  {
   "cell_type": "code",
   "execution_count": 13,
   "metadata": {},
   "outputs": [
    {
     "name": "stdout",
     "output_type": "stream",
     "text": [
      "1010\n"
     ]
    }
   ],
   "source": [
    "def decimaltoBinary(n):\n",
    "    assert int(n) == n,\"The parameter must be integer only\"\n",
    "    if n == 0:\n",
    "        return 0\n",
    "    else:\n",
    "        return n%2 + 10 * decimaltoBinary(int(n/2))\n",
    "print(decimaltoBinary(10))"
   ]
  },
  {
   "cell_type": "code",
   "execution_count": null,
   "metadata": {},
   "outputs": [],
   "source": []
  }
 ],
 "metadata": {
  "kernelspec": {
   "display_name": "Python 3",
   "language": "python",
   "name": "python3"
  },
  "language_info": {
   "codemirror_mode": {
    "name": "ipython",
    "version": 3
   },
   "file_extension": ".py",
   "mimetype": "text/x-python",
   "name": "python",
   "nbconvert_exporter": "python",
   "pygments_lexer": "ipython3",
   "version": "3.8.3"
  }
 },
 "nbformat": 4,
 "nbformat_minor": 4
}
