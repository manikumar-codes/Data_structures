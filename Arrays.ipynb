{
 "cells": [
  {
   "cell_type": "markdown",
   "metadata": {},
   "source": [
    "# Arrays"
   ]
  },
  {
   "cell_type": "markdown",
   "metadata": {},
   "source": [
    "* Array is a collection of similar data elements,each identified by at least one array index and this elements are stored at contiguous memory locations."
   ]
  },
  {
   "cell_type": "markdown",
   "metadata": {},
   "source": [
    "* size of an array is fixed."
   ]
  },
  {
   "cell_type": "raw",
   "metadata": {},
   "source": [
    "Types of Array :\n",
    "\n",
    "* single dimensional array\n",
    "* multiple dimensional array"
   ]
  },
  {
   "cell_type": "markdown",
   "metadata": {},
   "source": [
    "# Creating an array in python"
   ]
  },
  {
   "cell_type": "raw",
   "metadata": {},
   "source": [
    "from array import *\n",
    "arrayName = array(typecode,[initializers])"
   ]
  },
  {
   "cell_type": "code",
   "execution_count": 1,
   "metadata": {},
   "outputs": [
    {
     "name": "stdout",
     "output_type": "stream",
     "text": [
      "array('i', [4, 7, 2, 9, 8])\n",
      "array('d', [9.8, 7.5, 5.9, 8.1])\n"
     ]
    }
   ],
   "source": [
    "from array import *\n",
    "arr1 = array(\"i\",[4,7,2,9,8])\n",
    "arr2 = array(\"d\",[9.8,7.5,5.9,8.1])\n",
    "print(arr1)\n",
    "print(arr2)"
   ]
  },
  {
   "cell_type": "markdown",
   "metadata": {},
   "source": [
    "* Time complexity : O(1)"
   ]
  },
  {
   "cell_type": "markdown",
   "metadata": {},
   "source": [
    "# Insertion"
   ]
  },
  {
   "cell_type": "code",
   "execution_count": 2,
   "metadata": {},
   "outputs": [
    {
     "name": "stdout",
     "output_type": "stream",
     "text": [
      "array('i', [4, 7, 2, 9, 8])\n",
      "array('i', [4, 7, 2, 9, 8, 90])\n"
     ]
    }
   ],
   "source": [
    "from array import *\n",
    "arr1 = array(\"i\",[4,7,2,9,8])\n",
    "print(arr1)\n",
    "arr1.insert(5,90)\n",
    "print(arr1)"
   ]
  },
  {
   "cell_type": "markdown",
   "metadata": {},
   "source": [
    "# Insert element at beginning"
   ]
  },
  {
   "cell_type": "code",
   "execution_count": 4,
   "metadata": {},
   "outputs": [
    {
     "name": "stdout",
     "output_type": "stream",
     "text": [
      "array('i', [4, 7, 2, 9, 8])\n",
      "array('i', [0, 4, 7, 2, 9, 8])\n"
     ]
    }
   ],
   "source": [
    "from array import *\n",
    "arr1 = array(\"i\",[4,7,2,9,8])\n",
    "print(arr1)\n",
    "arr1.insert(0,0)\n",
    "print(arr1)"
   ]
  },
  {
   "cell_type": "raw",
   "metadata": {},
   "source": [
    "Time complexity:\n",
    "---------------\n",
    "insert at beginning and middle : O(n)\n",
    "insert at end : O(1)\n",
    "\n",
    "Syntax:\n",
    "-----------\n",
    "insert(index,value)"
   ]
  },
  {
   "cell_type": "markdown",
   "metadata": {},
   "source": [
    "# Array traversal"
   ]
  },
  {
   "cell_type": "code",
   "execution_count": 5,
   "metadata": {},
   "outputs": [
    {
     "name": "stdout",
     "output_type": "stream",
     "text": [
      "4 7 2 9 8 "
     ]
    }
   ],
   "source": [
    "from array import *\n",
    "arr1 = array(\"i\",[4,7,2,9,8])\n",
    "def traverse(array):\n",
    "    for i in array:\n",
    "        print(i,end=\" \")\n",
    "traverse(arr1)"
   ]
  },
  {
   "cell_type": "markdown",
   "metadata": {},
   "source": [
    "* Time complexity : O(n)"
   ]
  },
  {
   "cell_type": "markdown",
   "metadata": {},
   "source": [
    "# Access array element"
   ]
  },
  {
   "cell_type": "raw",
   "metadata": {},
   "source": [
    "syntax :\n",
    "-------\n",
    "arrayName[index]"
   ]
  },
  {
   "cell_type": "code",
   "execution_count": 8,
   "metadata": {},
   "outputs": [
    {
     "name": "stdout",
     "output_type": "stream",
     "text": [
      "8\n"
     ]
    }
   ],
   "source": [
    "from array import *\n",
    "arr1 = array(\"i\",[4,7,2,9,8])\n",
    "def access(array,index):\n",
    "    if index >= len(array):\n",
    "        print(\"Array is full\")\n",
    "    else:\n",
    "        print(array[index])\n",
    "access(arr1,4)"
   ]
  },
  {
   "cell_type": "raw",
   "metadata": {},
   "source": [
    "* Time complexity : O(1)"
   ]
  },
  {
   "cell_type": "markdown",
   "metadata": {},
   "source": [
    "# Finding an element"
   ]
  },
  {
   "cell_type": "code",
   "execution_count": 12,
   "metadata": {},
   "outputs": [
    {
     "name": "stdout",
     "output_type": "stream",
     "text": [
      "4\n"
     ]
    }
   ],
   "source": [
    "from array import *\n",
    "arr1 = array(\"i\",[4,7,2,9,8])\n",
    "def searchinArray(array,value):\n",
    "    for i in array:\n",
    "        if i == value:\n",
    "            return array.index(value)\n",
    "    \n",
    "    return \"Key is not in the array\"\n",
    "print(searchinArray(arr1,8))"
   ]
  },
  {
   "cell_type": "raw",
   "metadata": {},
   "source": [
    "Time complexity --> O(n)"
   ]
  },
  {
   "cell_type": "markdown",
   "metadata": {},
   "source": [
    "# Deletion"
   ]
  },
  {
   "cell_type": "code",
   "execution_count": 13,
   "metadata": {},
   "outputs": [
    {
     "name": "stdout",
     "output_type": "stream",
     "text": [
      "array('i', [4, 2, 9, 8])\n"
     ]
    }
   ],
   "source": [
    "from array import *\n",
    "arr1 = array(\"i\",[4,7,2,9,8])\n",
    "arr1.remove(7)\n",
    "print(arr1)"
   ]
  },
  {
   "cell_type": "raw",
   "metadata": {},
   "source": [
    "Time complexity:\n",
    "----------------\n",
    "Deletion in beginning and middle of an array --> O(n)\n",
    "Deletion at the end --> O(1)"
   ]
  },
  {
   "cell_type": "markdown",
   "metadata": {},
   "source": [
    "# One dimensional array - practice"
   ]
  },
  {
   "cell_type": "code",
   "execution_count": 28,
   "metadata": {},
   "outputs": [
    {
     "name": "stdout",
     "output_type": "stream",
     "text": [
      "1 8 9 7 6 4 \n",
      "first element - 1\n",
      "After appending - array('i', [1, 8, 9, 7, 6, 4, 11])\n",
      "After inserting - array('i', [1, 5, 8, 9, 7, 6, 4, 11])\n",
      "After extending - array('i', [1, 5, 8, 9, 7, 6, 4, 11, 99, 77, 66, 55, 22])\n",
      "After fromlist()- array('i', [1, 5, 8, 9, 7, 6, 4, 11, 99, 77, 66, 55, 22, 65, 89, 34, 21, 54])\n",
      "after remove - array('i', [5, 8, 9, 7, 6, 4, 11, 99, 77, 66, 55, 22, 65, 89, 34, 21, 54])\n",
      "After popping - array('i', [5, 8, 9, 7, 6, 4, 11, 99, 77, 66, 55, 22, 65, 89, 34, 21])\n",
      "index of 66 - 9\n",
      "After reversing array - array('i', [21, 34, 89, 65, 22, 55, 66, 77, 99, 11, 4, 6, 7, 9, 8, 5])\n",
      "buffer information\n",
      "(570979316880, 16)\n",
      "count of 9 - 1\n",
      "after converting array to string - b'\\x15\\x00\\x00\\x00\"\\x00\\x00\\x00Y\\x00\\x00\\x00A\\x00\\x00\\x00\\x16\\x00\\x00\\x007\\x00\\x00\\x00B\\x00\\x00\\x00M\\x00\\x00\\x00c\\x00\\x00\\x00\\x0b\\x00\\x00\\x00\\x04\\x00\\x00\\x00\\x06\\x00\\x00\\x00\\x07\\x00\\x00\\x00\\t\\x00\\x00\\x00\\x08\\x00\\x00\\x00\\x05\\x00\\x00\\x00'\n",
      "after converting array to string - array('i', [21, 34, 89, 65, 22, 55, 66, 77, 99, 11, 4, 6, 7, 9, 8, 5])\n",
      "After slicing - array('i', [34, 89, 65])\n"
     ]
    }
   ],
   "source": [
    "from array import *\n",
    "#create an array and traverse\n",
    "my_array = array('i',[1,8,9,7,6,4])\n",
    "for i in my_array:\n",
    "    print(i,end=\" \")\n",
    "#Access  Individual elements through indexes\n",
    "print()\n",
    "print(\"first element -\",my_array[0])\n",
    "\n",
    "#Append any value to any array using append method\n",
    "my_array.append(11)\n",
    "print(\"After appending -\",my_array)\n",
    "\n",
    "#insert value to an array using insert method.\n",
    "my_array.insert(1,5)\n",
    "print(\"After inserting -\",my_array)\n",
    "\n",
    "#Extend python array using extend method.\n",
    "my_array1 = array('i',[99,77,66,55,22])\n",
    "my_array.extend(my_array1)\n",
    "print(\"After extending -\",my_array)\n",
    "\n",
    "#Add items from list into array using fromist() method\n",
    "tempList =[65,89,34,21,54]\n",
    "my_array.fromlist(tempList)\n",
    "print(\"After fromlist()-\",my_array)\n",
    "\n",
    "#remove any array element using remove method.\n",
    "my_array.remove(1)\n",
    "print(\"after remove -\",my_array)\n",
    "\n",
    "#Removing last method using pop() method.\n",
    "my_array.pop()\n",
    "print(\"After popping -\",my_array)\n",
    "\n",
    "#Fetch any element in an array using index() method.\n",
    "print(\"index of 66 -\",my_array.index(66))\n",
    "\n",
    "#Reverse an python array using reverse mthod.\n",
    "my_array.reverse()\n",
    "print(\"After reversing array -\",my_array)\n",
    "\n",
    "#Get array buffer information through buffer_info() method.\n",
    "print(\"buffer information\")\n",
    "print(my_array.buffer_info())\n",
    "\n",
    "#check the number of occurrence of an element in an array using count method.\n",
    "print(\"count of 9 -\",my_array.count(99))\n",
    "\n",
    "#Convert array to string using tostring() method.\n",
    "stringTemp = my_array.tostring()\n",
    "print(\"after converting array to string -\",stringTemp)\n",
    "ints = array('i')\n",
    "ints.fromstring(stringTemp)\n",
    "print(\"after converting array to string -\",ints)\n",
    "\n",
    "#Convert array to list using tolist() method.\n",
    "#print(\"converting to list -\",my_array.tolist())\n",
    "\n",
    "#Slice elements from an array.\n",
    "print(\"After slicing -\",my_array[1:4])"
   ]
  },
  {
   "cell_type": "markdown",
   "metadata": {},
   "source": [
    "# Two dimensional array"
   ]
  },
  {
   "cell_type": "code",
   "execution_count": 29,
   "metadata": {},
   "outputs": [
    {
     "name": "stdout",
     "output_type": "stream",
     "text": [
      "[[ 1  2  3  4]\n",
      " [ 5  6  7  8]\n",
      " [ 9 10 11 12]]\n"
     ]
    }
   ],
   "source": [
    "import numpy as np\n",
    "twoDArray = np.array([[1,2,3,4],[5,6,7,8],[9,10,11,12]])\n",
    "print(twoDArray)"
   ]
  },
  {
   "cell_type": "raw",
   "metadata": {},
   "source": [
    "*Time Complexity : O(1)"
   ]
  },
  {
   "cell_type": "markdown",
   "metadata": {},
   "source": [
    "# insertion - two dimensional array"
   ]
  },
  {
   "cell_type": "code",
   "execution_count": 41,
   "metadata": {},
   "outputs": [
    {
     "name": "stdout",
     "output_type": "stream",
     "text": [
      "[[ 1  2  3  4]\n",
      " [ 5  6  7  8]\n",
      " [ 9 10 11 12]]\n",
      "[[77  1  2  3  4]\n",
      " [99  5  6  7  8]\n",
      " [22  9 10 11 12]]\n"
     ]
    }
   ],
   "source": [
    "import numpy as np\n",
    "twoDArray = np.array([[1,2,3,4],[5,6,7,8],[9,10,11,12]])\n",
    "print(twoDArray)\n",
    "#Adding column in two dimensional array\n",
    "newtwoDArray = np.insert(twoDArray, 0,[[77,99,22]], axis=1)\n",
    "print(newtwoDArray)"
   ]
  },
  {
   "cell_type": "code",
   "execution_count": 43,
   "metadata": {},
   "outputs": [
    {
     "name": "stdout",
     "output_type": "stream",
     "text": [
      "[[ 1  2  3  4]\n",
      " [ 5  6  7  8]\n",
      " [ 9 10 11 12]]\n",
      "[[ 1  2  3  4]\n",
      " [ 0  0  0  0]\n",
      " [ 5  6  7  8]\n",
      " [ 9 10 11 12]]\n"
     ]
    }
   ],
   "source": [
    "import numpy as np\n",
    "twoDArray = np.array([[1,2,3,4],[5,6,7,8],[9,10,11,12]])\n",
    "print(twoDArray)\n",
    "#Adding row in two dimensional array\n",
    "newtwoDArray = np.insert(twoDArray, 1,[[0,0,0,0]], axis=0)\n",
    "print(newtwoDArray)"
   ]
  },
  {
   "cell_type": "code",
   "execution_count": 46,
   "metadata": {},
   "outputs": [
    {
     "name": "stdout",
     "output_type": "stream",
     "text": [
      "[[ 1  2  3  4]\n",
      " [ 5  6  7  8]\n",
      " [ 9 10 11 12]]\n",
      "[[  1   2   3   4]\n",
      " [  5   6   7   8]\n",
      " [  9  10  11  12]\n",
      " [ 90  50 100 299]]\n"
     ]
    }
   ],
   "source": [
    "import numpy as np\n",
    "twoDArray = np.array([[1,2,3,4],[5,6,7,8],[9,10,11,12]])\n",
    "print(twoDArray)\n",
    "#Adding a row\n",
    "newtwoDArray = np.append(twoDArray,[[90,50,100,299]],axis=0)\n",
    "print(newtwoDArray)"
   ]
  },
  {
   "cell_type": "code",
   "execution_count": 50,
   "metadata": {},
   "outputs": [
    {
     "name": "stdout",
     "output_type": "stream",
     "text": [
      "[[ 1  2  3  4]\n",
      " [ 5  6  7  8]\n",
      " [ 9 10 11 12]]\n",
      "[[  1   2   3   4  90]\n",
      " [  5   6   7   8  50]\n",
      " [  9  10  11  12 100]]\n"
     ]
    }
   ],
   "source": [
    "import numpy as np\n",
    "twoDArray = np.array([[1,2,3,4],[5,6,7,8],[9,10,11,12]])\n",
    "print(twoDArray)\n",
    "#Adding column to 2 dimensional array\n",
    "newtwoDArray = np.append(twoDArray,[[90],[50],[100]],axis=1)\n",
    "print(newtwoDArray)"
   ]
  },
  {
   "cell_type": "markdown",
   "metadata": {},
   "source": [
    "# Access an element of 2 dimensional array"
   ]
  },
  {
   "cell_type": "raw",
   "metadata": {},
   "source": [
    "a[i][j]===> i is row index and j is column index"
   ]
  },
  {
   "cell_type": "code",
   "execution_count": 51,
   "metadata": {},
   "outputs": [
    {
     "name": "stdout",
     "output_type": "stream",
     "text": [
      "[[ 1  2  3  4]\n",
      " [ 5  6  7  8]\n",
      " [ 9 10 11 12]]\n",
      "6\n"
     ]
    }
   ],
   "source": [
    "import numpy as np\n",
    "twoDArray = np.array([[1,2,3,4],[5,6,7,8],[9,10,11,12]])\n",
    "print(twoDArray)\n",
    "\n",
    "def accessElement(array,rowIndex,colIndex):\n",
    "    if rowIndex >= len(array) and colIndex >= len(array[0]):\n",
    "        print(\"Incorrect index\")\n",
    "    else:\n",
    "        print(array[rowIndex][colIndex])\n",
    "accessElement(twoDArray,1,1)"
   ]
  },
  {
   "cell_type": "raw",
   "metadata": {},
   "source": [
    "Time Complexity : O(1)\n",
    "\n",
    "* len(array) returns number of rows\n",
    "* len(array[0]) returns number of columns\n"
   ]
  },
  {
   "cell_type": "markdown",
   "metadata": {},
   "source": [
    "# Traversal"
   ]
  },
  {
   "cell_type": "code",
   "execution_count": 52,
   "metadata": {},
   "outputs": [
    {
     "name": "stdout",
     "output_type": "stream",
     "text": [
      "[[ 1  2  3  4]\n",
      " [ 5  6  7  8]\n",
      " [ 9 10 11 12]]\n",
      "1 2 3 4 5 6 7 8 9 10 11 12 "
     ]
    }
   ],
   "source": [
    "import numpy as np\n",
    "twoDArray = np.array([[1,2,3,4],[5,6,7,8],[9,10,11,12]])\n",
    "print(twoDArray)\n",
    "\n",
    "def traverseArray(array):\n",
    "    for i in range(len(array)):\n",
    "        for j in range(len(array[0])):\n",
    "            print(array[i][j],end=\" \")\n",
    "traverseArray(twoDArray)"
   ]
  },
  {
   "cell_type": "raw",
   "metadata": {},
   "source": [
    "Time Complexity : O(n square)"
   ]
  },
  {
   "cell_type": "code",
   "execution_count": 71,
   "metadata": {},
   "outputs": [
    {
     "name": "stdout",
     "output_type": "stream",
     "text": [
      "[[ 1  2  3  4]\n",
      " [ 5  6  7  8]\n",
      " [ 9 10 11 12]]\n",
      "Element is found at row 1 column 2\n"
     ]
    }
   ],
   "source": [
    "import numpy as np\n",
    "twoDArray = np.array([[1,2,3,4],[5,6,7,8],[9,10,11,12]])\n",
    "print(twoDArray)\n",
    "\n",
    "def searchArray(array,value):\n",
    "    for i in range(len(array)):\n",
    "        for j in range(len(array[0])):\n",
    "            if array[i][j] == value:\n",
    "                return \"Element is found at\"+\" \"+\"row\"+\" \"+ str(i)+\" \"+\"column\"+\" \"+str(j)\n",
    "    return \"Element not found\"                 \n",
    "print(searchArray(twoDArray,7))"
   ]
  },
  {
   "cell_type": "raw",
   "metadata": {},
   "source": [
    "Time Complexity : O(mn)\n",
    "if rows and columns are same : O(n square)"
   ]
  },
  {
   "cell_type": "markdown",
   "metadata": {},
   "source": [
    "# Deletion-Two Dimensional Array"
   ]
  },
  {
   "cell_type": "code",
   "execution_count": 4,
   "metadata": {},
   "outputs": [
    {
     "name": "stdout",
     "output_type": "stream",
     "text": [
      "[[ 1  2  3  4]\n",
      " [ 5  6  7  8]\n",
      " [ 9 10 11 12]]\n",
      "\n",
      "[[ 2  3  4]\n",
      " [ 6  7  8]\n",
      " [10 11 12]]\n"
     ]
    }
   ],
   "source": [
    "import numpy as np\n",
    "twoDArray = np.array([[1,2,3,4],[5,6,7,8],[9,10,11,12]])\n",
    "print(twoDArray)\n",
    "\n",
    "#deleting first column\n",
    "newTwoDArray = np.delete(twoDArray,0,axis=1)\n",
    "print()\n",
    "print(newTwoDArray)"
   ]
  },
  {
   "cell_type": "code",
   "execution_count": 3,
   "metadata": {},
   "outputs": [
    {
     "name": "stdout",
     "output_type": "stream",
     "text": [
      "[[ 1  2  3  4]\n",
      " [ 5  6  7  8]\n",
      " [ 9 10 11 12]]\n",
      "\n",
      "[[ 5  6  7  8]\n",
      " [ 9 10 11 12]]\n"
     ]
    }
   ],
   "source": [
    "import numpy as np\n",
    "twoDArray = np.array([[1,2,3,4],[5,6,7,8],[9,10,11,12]])\n",
    "print(twoDArray)\n",
    "\n",
    "#deleting first row\n",
    "newTwoDArray = np.delete(twoDArray,0,axis=0)\n",
    "print()\n",
    "print(newTwoDArray)"
   ]
  },
  {
   "cell_type": "raw",
   "metadata": {},
   "source": [
    "Time Complexity : O(mn)\n",
    "if rows and columns are same : O(n square)"
   ]
  },
  {
   "cell_type": "markdown",
   "metadata": {},
   "source": [
    "# When to use arrays"
   ]
  },
  {
   "cell_type": "markdown",
   "metadata": {},
   "source": [
    "* To store multiple variables of same data type\n",
    "* Random Access"
   ]
  },
  {
   "cell_type": "markdown",
   "metadata": {},
   "source": [
    "# When to avoid arrays"
   ]
  },
  {
   "cell_type": "markdown",
   "metadata": {},
   "source": [
    "* Reserve memory\n",
    "* Same data type elements"
   ]
  }
 ],
 "metadata": {
  "kernelspec": {
   "display_name": "Python 3",
   "language": "python",
   "name": "python3"
  },
  "language_info": {
   "codemirror_mode": {
    "name": "ipython",
    "version": 3
   },
   "file_extension": ".py",
   "mimetype": "text/x-python",
   "name": "python",
   "nbconvert_exporter": "python",
   "pygments_lexer": "ipython3",
   "version": "3.8.3"
  }
 },
 "nbformat": 4,
 "nbformat_minor": 4
}
